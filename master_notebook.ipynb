{
 "cells": [
  {
   "cell_type": "markdown",
   "id": "4ac9c511-ceb7-4a12-b2a0-414ac01e4304",
   "metadata": {
    "tags": []
   },
   "source": [
    "# Master Notebook"
   ]
  },
  {
   "cell_type": "markdown",
   "id": "0033e385-2dcc-4e30-bde9-f7f45c7e8eef",
   "metadata": {},
   "source": [
    "## Food Demand"
   ]
  },
  {
   "cell_type": "markdown",
   "id": "bcada0c8-bc25-4d13-bfd9-b4faa1103f8f",
   "metadata": {},
   "source": [
    "| **Country** | Valid Years |  \n",
    "|-----------|----------|\n",
    "| **Uganda** | 2009-10, 2010-11, 2011-12, 2013-14|"
   ]
  },
  {
   "cell_type": "code",
   "execution_count": 4,
   "id": "cb0c6484-6f2b-479e-8deb-8042120c1235",
   "metadata": {
    "tags": []
   },
   "outputs": [],
   "source": [
    "# !pip install CFEDemands\n",
    "# !pip install fooddatacentral\n",
    "# !pip install pint"
   ]
  },
  {
   "cell_type": "code",
   "execution_count": 5,
   "id": "1b664455-c46b-41d7-b70d-1bf48419a9b7",
   "metadata": {
    "tags": []
   },
   "outputs": [],
   "source": [
    "%run demand.ipynb"
   ]
  },
  {
   "cell_type": "code",
   "execution_count": 35,
   "id": "e7e73547-d68c-40b1-baae-0aa88dda4864",
   "metadata": {
    "tags": []
   },
   "outputs": [],
   "source": [
    "country = 'Uganda'\n",
    "year_range = ...\n",
    "result, p = estimate_demand_wrapper(country, year_range)"
   ]
  },
  {
   "cell_type": "code",
   "execution_count": 37,
   "id": "0ab4af2e-e60c-4d27-89e1-2bb078d94c43",
   "metadata": {
    "tags": []
   },
   "outputs": [],
   "source": [
    "plot_engel_curve_interactive(result, p)"
   ]
  },
  {
   "cell_type": "markdown",
   "id": "05d4003f-c8e1-49f7-b7f6-7a9b1f40ba4d",
   "metadata": {},
   "source": [
    "## Modifying Food Prices"
   ]
  },
  {
   "cell_type": "code",
   "execution_count": 39,
   "id": "6328cb4d-1730-4fb1-9e4e-24a785438571",
   "metadata": {
    "tags": []
   },
   "outputs": [],
   "source": [
    "plot_demands_interactive(result, p)"
   ]
  },
  {
   "cell_type": "markdown",
   "id": "5e7715c1-1e88-42c9-b0df-8d0686364d2b",
   "metadata": {},
   "source": [
    "## Nutritional Adequacy"
   ]
  },
  {
   "cell_type": "markdown",
   "id": "02a8bfe2-794c-4640-8e6e-c4a449884980",
   "metadata": {},
   "source": [
    "| **Country** | Valid Years |  \n",
    "|-----------|----------|\n",
    "| **Uganda** | 2009-10, 2010-11, 2011-12, 2013-14|"
   ]
  },
  {
   "cell_type": "code",
   "execution_count": 28,
   "id": "bae12d43-aa59-4d2b-bd6c-d8a9c89827bc",
   "metadata": {
    "tags": []
   },
   "outputs": [],
   "source": [
    "%run nutritional_adequacy.ipynb"
   ]
  },
  {
   "cell_type": "code",
   "execution_count": 41,
   "id": "8ae3fb6d-7b0e-4354-a29b-20b1165eedda",
   "metadata": {
    "tags": []
   },
   "outputs": [],
   "source": [
    "country = 'Uganda'\n",
    "year_range = ...\n",
    "run_nutritional_adequacy_analysis(country, year_range)"
   ]
  }
 ],
 "metadata": {
  "kernelspec": {
   "display_name": "Python 3 (ipykernel)",
   "language": "python",
   "name": "python3"
  },
  "language_info": {
   "codemirror_mode": {
    "name": "ipython",
    "version": 3
   },
   "file_extension": ".py",
   "mimetype": "text/x-python",
   "name": "python",
   "nbconvert_exporter": "python",
   "pygments_lexer": "ipython3",
   "version": "3.9.15"
  }
 },
 "nbformat": 4,
 "nbformat_minor": 5
}
