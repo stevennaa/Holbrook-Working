{
 "cells": [
  {
   "cell_type": "markdown",
   "id": "f43ae03a-aa9c-49a1-b0eb-8a57a1190230",
   "metadata": {},
   "source": [
    "# Nutritional Content Notebook"
   ]
  },
  {
   "cell_type": "code",
   "execution_count": 3,
   "id": "f82ab2a4-db1a-4951-91f4-349014ec7d7b",
   "metadata": {
    "tags": []
   },
   "outputs": [],
   "source": [
    "import pandas as pd\n",
    "import numpy as np\n",
    "import seaborn as sns\n",
    "import matplotlib.pyplot as plt\n",
    "from ipywidgets import interact, interactive, widgets\n",
    "import fooddatacentral as fdc\n",
    "\n",
    "# This is a local file unique to Jordan's computer\n",
    "# It contains his USDA FoodData Central API Key\n",
    "# Keep Commented or it will cause an error\n",
    "# import config"
   ]
  },
  {
   "cell_type": "markdown",
   "id": "c08b3d3d-3362-4a44-b83f-96b81c12fc83",
   "metadata": {},
   "source": [
    "## Getting Nutritional Contents"
   ]
  },
  {
   "cell_type": "code",
   "execution_count": 5,
   "id": "6b1276ae-7c2f-497d-9c45-a2cbb6b8a112",
   "metadata": {
    "tags": []
   },
   "outputs": [],
   "source": [
    "foods_oi = pd.read_csv('./data/foods_oi.csv').set_index('Food')\n",
    "# apikey = config.API_KEY\n",
    "diet_refs = pd.read_csv('./data/us_diet_minimums.csv')\n",
    "dr_categories = diet_refs['Nutrition'].values"
   ]
  },
  {
   "cell_type": "code",
   "execution_count": 6,
   "id": "37caedf3-ea26-4b24-8111-01864d4d87fe",
   "metadata": {
    "tags": []
   },
   "outputs": [],
   "source": [
    "def get_nutritional_content(foods_oi, apikey, dr_categories):\n",
    "\n",
    "    food_nutrients = {}\n",
    "    for food in foods_oi.index:\n",
    "        try:\n",
    "            FDC = foods_oi.loc[food,'FDC']\n",
    "            food_nutrients[food] = fdc.nutrients(apikey,FDC).Quantity\n",
    "        except:\n",
    "            pass\n",
    "\n",
    "    food_nutrients = pd.DataFrame(food_nutrients,dtype=float)\n",
    "\n",
    "    food_nutrients = food_nutrients[food_nutrients.index.isin(dr_categories)].fillna(0)\n",
    "    return food_nutrients"
   ]
  }
 ],
 "metadata": {
  "kernelspec": {
   "display_name": "Python 3 (ipykernel)",
   "language": "python",
   "name": "python3"
  },
  "language_info": {
   "codemirror_mode": {
    "name": "ipython",
    "version": 3
   },
   "file_extension": ".py",
   "mimetype": "text/x-python",
   "name": "python",
   "nbconvert_exporter": "python",
   "pygments_lexer": "ipython3",
   "version": "3.11.5"
  }
 },
 "nbformat": 4,
 "nbformat_minor": 5
}
