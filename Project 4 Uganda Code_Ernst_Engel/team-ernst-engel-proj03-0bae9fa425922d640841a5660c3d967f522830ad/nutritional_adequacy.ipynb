{
 "cells": [
  {
   "cell_type": "markdown",
   "id": "f43ae03a-aa9c-49a1-b0eb-8a57a1190230",
   "metadata": {},
   "source": [
    "# Nutritional Adequacy Notebook"
   ]
  },
  {
   "cell_type": "code",
   "execution_count": 1,
   "id": "f82ab2a4-db1a-4951-91f4-349014ec7d7b",
   "metadata": {
    "tags": []
   },
   "outputs": [],
   "source": [
    "import pandas as pd\n",
    "import numpy as np\n",
    "import seaborn as sns\n",
    "import matplotlib.pyplot as plt\n",
    "from ipywidgets import interact, interactive, widgets\n",
    "import fooddatacentral as fdc"
   ]
  },
  {
   "cell_type": "markdown",
   "id": "c08b3d3d-3362-4a44-b83f-96b81c12fc83",
   "metadata": {
    "tags": []
   },
   "source": [
    "## Getting Nutritional Contents\n",
    "Reference `nutritional_content.ipynb` for more explanation."
   ]
  },
  {
   "cell_type": "code",
   "execution_count": 4,
   "id": "c1d7177f-610e-40a9-9bcb-0a95ee9bf005",
   "metadata": {
    "tags": []
   },
   "outputs": [],
   "source": [
    "%run nutritional_content.ipynb"
   ]
  },
  {
   "cell_type": "code",
   "execution_count": 6,
   "id": "1cd256a0-5b5b-4bbe-b8cf-ab340f25490c",
   "metadata": {
    "tags": []
   },
   "outputs": [],
   "source": [
    "# food_nutrients = get_nutritional_content(foods_oi, apikey, dr_categories)"
   ]
  },
  {
   "cell_type": "markdown",
   "id": "8c164484-9e27-4cbb-9c47-9e5523b02580",
   "metadata": {
    "tags": []
   },
   "source": [
    "## Examing Nutritional Adequacy"
   ]
  },
  {
   "cell_type": "code",
   "execution_count": 227,
   "id": "459d0cf5-72a7-496b-9904-0b919f8b8f07",
   "metadata": {
    "tags": []
   },
   "outputs": [],
   "source": [
    "diet_refs = pd.read_csv('./data/uganda/rdi.csv')\n",
    "dr_categories = diet_refs['n'].values"
   ]
  },
  {
   "cell_type": "code",
   "execution_count": null,
   "id": "3447ca8a-4645-4cf2-940e-60033dc2ec6b",
   "metadata": {
    "tags": []
   },
   "outputs": [],
   "source": [
    "def get_data(country, year):\n",
    "\n",
    "    food_nutrients = pd.read_csv(f'./data/{country}/fct.csv')#.set_index('n')\n",
    "    food_prices = pd.read_csv(f'./data/{country}/food_prices.csv').fillna(0)\n",
    "    hh_chars = pd.read_csv(f'./data/{country}/hh_chars.csv')\n",
    "\n",
    "    ### Deals With Housholds from an  Unknown Region\n",
    "    hh_chars['m'] = hh_chars['m'].fillna('Unknown')\n",
    "    expenditures = pd.read_csv(f'./data/{country}/expenditures_{year_range[-5:]}.csv').fillna(0)\n",
    "    \n",
    "    hhc_sub = hh_chars[hh_chars['t'] == year_range].reset_index(drop = True)\n",
    "    fp_sub = food_prices[food_prices['t'] == year_range].set_index('m').drop(columns = ['t'])\n",
    "    food_cols = expenditures.iloc[0:2, 3:].columns\n",
    "    fp_sub_avgs = fp_sub.reset_index(drop = True)\n",
    "    fp_sub_avgs = pd.DataFrame(fp_sub_avgs.mean()).rename(columns = {0 : 'Mean_Price'})\n",
    "    \n",
    "    return food_nutrients, food_prices, hh_chars, expenditures, hhc_sub, fp_sub, food_cols, fp_sub_avgs"
   ]
  },
  {
   "cell_type": "code",
   "execution_count": 270,
   "id": "bbdbc4aa-8260-46b7-b5c9-31992a0d38fb",
   "metadata": {
    "tags": []
   },
   "outputs": [],
   "source": [
    "def get_col_counts(expenditures_df, food_col, prices, price_avs):\n",
    "\n",
    "    counts = []\n",
    "    for idx in expenditures_df.index:\n",
    "        region = expenditures_df.loc[idx, 'm']\n",
    "        expenditure = expenditures_df.loc[idx, food_col]\n",
    "        if region == 'Unknown':\n",
    "            # Imputes price from unknown region with the mean accross all regions\n",
    "            price = fp_sub_avgs.loc[food_col][0]\n",
    "            if price == 0: # Don't want to divide by zero\n",
    "                count = 0\n",
    "                counts.append(count)\n",
    "            else:\n",
    "                count = expenditure / price\n",
    "                counts.append(count)   \n",
    "        else:\n",
    "            price = prices.loc[region, food_col]\n",
    "            if price == 0: # Don't want to divide by zero\n",
    "                count = 0\n",
    "                counts.append(count)\n",
    "            else:\n",
    "                count = expenditure / price\n",
    "                counts.append(count)\n",
    "    return counts"
   ]
  },
  {
   "cell_type": "code",
   "execution_count": 28,
   "id": "ea337c84-6a08-448d-8645-50882f45f209",
   "metadata": {
    "tags": []
   },
   "outputs": [],
   "source": [
    "def get_counts(expenditures_df, food_cols, prices, price_avs):\n",
    "\n",
    "    count_df = expenditures_df.drop(columns = food_cols)\n",
    "    for food_col in food_cols:\n",
    "        counts = get_col_counts(expenditures_df, food_col, prices, price_avs)\n",
    "        count_df[food_col] = counts\n",
    "    return count_df"
   ]
  },
  {
   "cell_type": "code",
   "execution_count": 256,
   "id": "a86e4da1-3fa8-4fd1-8c31-43b0ed767d80",
   "metadata": {
    "tags": []
   },
   "outputs": [],
   "source": [
    "def get_diet_adequacies(food_nutrients, food_prices, hh_chars, \n",
    "                    expenditures, hhc_sub, fp_sub, food_cols, fp_sub_avgs, diet_refs):\n",
    "\n",
    "    exp_counts = get_counts(expenditures, food_cols, fp_sub, fp_sub_avgs)\n",
    "    exp_counts['i'] = exp_counts['i'].astype(str)\n",
    "    \n",
    "    household_master = hhc_sub.merge(exp_counts, left_on = ['i', 't', 'm'], right_on = ['i', 't', 'm'])\n",
    "    hhc_sub_num = hhc_sub.set_index('i').iloc[:, 2:-1]\n",
    "    \n",
    "    # If expenditures weekly, extrapolation_constant = 7\n",
    "    # If expenditures daily, extrapolation_constant = 1\n",
    "    extrapolation_constant = 7\n",
    "\n",
    "    diet_refs_rev = diet_refs.set_index('n')\n",
    "    diet_refs_rev = diet_refs_rev[hhc_sub_num.columns] # Reorders columns\n",
    "    diet_refs_rev = extrapolation_constant * diet_refs_rev\n",
    "    \n",
    "    hh_diet_reqs = hhc_sub_num @ diet_refs_rev.T\n",
    "    \n",
    "    hh_consumption_cols = list(food_cols.to_numpy())\n",
    "    hh_consumption_cols.append('i')\n",
    "\n",
    "    hh_consumption = household_master[hh_consumption_cols].set_index('i')\n",
    "    \n",
    "    fn_rev = food_nutrients[food_nutrients['j'].isin(hh_consumption.columns)].rename(columns = {'j' : 'Food'}).set_index('Food')\n",
    "\n",
    "    hh_consumption_rev = hh_consumption[fn_rev.index.to_numpy()]\n",
    "\n",
    "    hh_consumption_nutrients = hh_consumption_rev @ fn_rev\n",
    "    \n",
    "    common_columns = hh_consumption_nutrients.columns.intersection(hh_consumption_nutrients.columns)\n",
    "    common_rows = set(hh_consumption_nutrients.index).intersection(hh_consumption_nutrients.index)\n",
    "\n",
    "    ### Gets common columns\n",
    "    hh_consumption_nutrients_rev = hh_consumption_nutrients[common_columns]\n",
    "    hh_diet_reqs_rev = hh_diet_reqs[common_columns]\n",
    "\n",
    "    ### Gets common rows\n",
    "    hh_consumption_nutrients_rev = hh_consumption_nutrients_rev[hh_consumption_nutrients_rev.index.isin(common_rows)]\n",
    "    hh_diet_reqs_rev = hh_diet_reqs_rev[hh_diet_reqs_rev.index.isin(common_rows)]\n",
    "    \n",
    "    hh_diet_adequacy = hh_consumption_nutrients_rev / hh_diet_reqs_rev\n",
    "    nutrient_cols = hh_diet_adequacy.columns\n",
    "    \n",
    "    hh_diet_adequacy['adequate_diet'] = (hh_diet_adequacy >= 1).sum(axis=1) / len(nutrient_cols)\n",
    "    hh_diet_adequacy['adequate_diet_75pct'] = (hh_diet_adequacy >= 0.75).sum(axis=1) / len(nutrient_cols)\n",
    "    hh_diet_adequacy['adequate_diet_50pct'] = (hh_diet_adequacy >= 0.5).sum(axis=1) / len(nutrient_cols)\n",
    "    hh_diet_adequacy = hh_diet_adequacy[~hh_diet_adequacy.isin([np.inf]).any(axis=1)] # Drops infinite values\n",
    "    \n",
    "    return hh_diet_adequacy, household_master, nutrient_cols"
   ]
  },
  {
   "cell_type": "markdown",
   "id": "dae54062-4274-4852-889d-e164a8864b33",
   "metadata": {
    "tags": []
   },
   "source": [
    "## Plotting Nutritional Accuracy"
   ]
  },
  {
   "cell_type": "code",
   "execution_count": 235,
   "id": "dc947f8e-3ff0-4115-9e25-d14402d72134",
   "metadata": {
    "tags": []
   },
   "outputs": [],
   "source": [
    "def get_plots(hh_diet_adequacy, household_master, nutrient_cols):\n",
    "\n",
    "    ### Distribution of Household Diet Adequacy Shares\n",
    "    fig, axs = plt.subplots(1, 3, figsize=(15, 5))\n",
    "\n",
    "    sns.histplot(data = hh_diet_adequacy, x = 'adequate_diet', \n",
    "                 stat='density', kde = True, color = 'green', ax = axs[0])\n",
    "    sns.histplot(data = hh_diet_adequacy, x = 'adequate_diet_75pct', \n",
    "                 stat='density', kde = True, color = 'orange', ax = axs[1])\n",
    "    sns.histplot(data = hh_diet_adequacy, x = 'adequate_diet_50pct', \n",
    "                 stat='density', kde = True, color = 'red', ax = axs[2])\n",
    "\n",
    "    plt.suptitle('Distribution of Household Diet Adequacy Shares at Different Adequacy Levels \\n Share = (Nutrients At or Above Adequacy Level / Total Nutrients)')\n",
    "\n",
    "    axs[0].set_title('100% Adequacy Level')\n",
    "    axs[1].set_title('75% Adequacy Level')\n",
    "    axs[2].set_title('50% Adequacy Level')\n",
    "\n",
    "    for ax in axs:\n",
    "        ax.set_xlabel('Adequacy Share')\n",
    "\n",
    "    plt.tight_layout()\n",
    "\n",
    "    plt.show();\n",
    "    \n",
    "    ### Distribution of Household Nutrient Adequacy Levels\n",
    "    fig, axs = plt.subplots(5, 3, figsize=(15, 15))\n",
    "\n",
    "    axs = axs.flatten()\n",
    "\n",
    "    colors = ['blue', 'green', 'red', 'orange', 'purple', 'yellow', 'brown', 'pink', 'gray', 'cyan', 'magenta', 'olive', 'navy', 'teal', 'salmon']\n",
    "\n",
    "    plt.suptitle('Distribution of Household Nutrient Adequacy Levels \\n Level = (Household Nutrient Intake / Nutrient Requirement)')\n",
    "\n",
    "    for i, col in enumerate(nutrient_cols):\n",
    "        color = colors[i]\n",
    "        sns.histplot(hh_diet_adequacy[col], ax=axs[i], kde=True, color=color, stat='density',)\n",
    "        axs[i].set_title(col)\n",
    "\n",
    "    plt.tight_layout()\n",
    "    plt.show();\n",
    "    \n",
    "    ### Nutrients Average Share vs Adequacy Share\n",
    "    adequacy_shares = (hh_diet_adequacy >= 1).mean()\n",
    "    adequacy_shares_75pct = (hh_diet_adequacy >= 0.75).mean()\n",
    "    adequacy_shares_50pct = (hh_diet_adequacy >= 0.5).mean()\n",
    "\n",
    "    # Calculate the average value of each column\n",
    "    avg_shares = hh_diet_adequacy.mean()\n",
    "\n",
    "    # Create a new DataFrame with the percentage over 1 and average values, indexed by column names\n",
    "    adequacy_shares_summary = pd.DataFrame({'Average Share': avg_shares, \n",
    "                                            'Adequacy Level (Full)': adequacy_shares,\n",
    "                                           'Adequacy Level (75%)': adequacy_shares_75pct,\n",
    "                                           'Adequacy Level (50%)': adequacy_shares_50pct})\n",
    "    adequacy_shares_summary = adequacy_shares_summary[adequacy_shares_summary.index.isin(nutrient_cols)]\n",
    "    \n",
    "    colors = ['green', 'orange', 'red']\n",
    "\n",
    "    plt.figure(figsize=(10, 6))\n",
    "\n",
    "    for i, (col, color) in enumerate(zip(adequacy_shares_summary.columns[1:], colors)):\n",
    "        sns.regplot(x='Average Share', y=col, data = adequacy_shares_summary,\n",
    "                    scatter= True, color = color, label = col)\n",
    "\n",
    "    plt.xlabel('Average Share')\n",
    "    plt.ylabel('Adequacy Share')\n",
    "    plt.title('Nutrients Average Share vs Adequacy Share')\n",
    "    plt.legend()\n",
    "    plt.grid(True)\n",
    "    plt.show();\n",
    "    \n",
    "    ### Displays the Nutrients with the Highest Average Share\n",
    "    print('Nutrients with the Highest Average Share')\n",
    "    display(adequacy_shares_summary.sort_values('Average Share', ascending = False).head())\n",
    "    \n",
    "    ### Adequacy Shares Across Regions\n",
    "    hh_diet_adequacy.reset_index(inplace = True)\n",
    "    hh_diet_adequacy['m'] = household_master['m']\n",
    "    hh_diet_adequacy = hh_diet_adequacy.set_index(['i', 'm']).reset_index().set_index('i')\n",
    "    \n",
    "    fig, axs = plt.subplots(1, 3, figsize=(15, 5))\n",
    "    adequacy_levels = [1, 0.75, 0.5]\n",
    "    a_lvl_titles = ['100% Adequacy Level', '75% Adequacy Level', '50% Adequacy Level']\n",
    "    colors = ['green', 'orange', 'red']\n",
    "\n",
    "    plt.suptitle('Adequacy Shares Across Regions At Different Adequacy Levels')\n",
    "\n",
    "    for i, a_lvl in enumerate(adequacy_levels):\n",
    "        hh_diet_adequacy_by_region = hh_diet_adequacy.set_index('m').iloc[:, :len(nutrient_cols)]\n",
    "        hh_diet_adequacy_by_region = (hh_diet_adequacy_by_region >= a_lvl).sum(axis = 1) / len(nutrient_cols)\n",
    "        color = colors[i]\n",
    "        axs[i].set_title(a_lvl_titles[i])\n",
    "        sns.boxplot(x = hh_diet_adequacy_by_region.index,\n",
    "                   y = hh_diet_adequacy_by_region.values, ax = axs[i])\n",
    "\n",
    "    for ax in axs:\n",
    "        ax.set_xlabel('Region')\n",
    "    \n",
    "    plt.show();"
   ]
  },
  {
   "cell_type": "markdown",
   "id": "c7c782c2-e0c6-4197-b9f2-1c8749839790",
   "metadata": {
    "tags": []
   },
   "source": [
    "## Interactivity Development"
   ]
  },
  {
   "cell_type": "code",
   "execution_count": 238,
   "id": "19c76e08-0e15-4002-a4bf-0154ab9f7a44",
   "metadata": {
    "tags": []
   },
   "outputs": [],
   "source": [
    "def run_nutritional_adequacy_analysis(country, year, diet_refs = diet_refs):\n",
    "\n",
    "    country = country.lower()\n",
    "    food_nutrients, food_prices, hh_chars, expenditures, hhc_sub, fp_sub, food_cols, fp_sub_avgs = get_data(country, year_range)\n",
    "    \n",
    "    hh_diet_adequacy, household_master, nutrient_cols = get_diet_adequacies(food_nutrients, food_prices, hh_chars, \n",
    "                        expenditures, hhc_sub, fp_sub, food_cols, fp_sub_avgs, diet_refs)\n",
    "    \n",
    "    get_plots(hh_diet_adequacy, household_master, nutrient_cols)"
   ]
  }
 ],
 "metadata": {
  "kernelspec": {
   "display_name": "Python 3 (ipykernel)",
   "language": "python",
   "name": "python3"
  },
  "language_info": {
   "codemirror_mode": {
    "name": "ipython",
    "version": 3
   },
   "file_extension": ".py",
   "mimetype": "text/x-python",
   "name": "python",
   "nbconvert_exporter": "python",
   "pygments_lexer": "ipython3",
   "version": "3.11.5"
  }
 },
 "nbformat": 4,
 "nbformat_minor": 5
}
